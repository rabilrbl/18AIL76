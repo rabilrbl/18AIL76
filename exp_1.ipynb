{
 "cells": [
  {
   "cell_type": "code",
   "execution_count": 8,
   "metadata": {},
   "outputs": [
    {
     "name": "stdout",
     "output_type": "stream",
     "text": [
      "OG\tPred\t1or0\n",
      "2\t2\t1\n",
      "0\t0\t1\n",
      "1\t1\t1\n",
      "1\t2\t0\n",
      "1\t1\t1\n",
      "0\t0\t1\n",
      "0\t0\t1\n",
      "1\t1\t1\n",
      "2\t2\t1\n",
      "0\t0\t1\n",
      "0\t0\t1\n",
      "1\t1\t1\n",
      "0\t0\t1\n",
      "0\t0\t1\n",
      "0\t0\t1\n",
      "CM:  [[8 0 0]\n",
      " [0 4 1]\n",
      " [0 0 2]]\n",
      "CR:                precision    recall  f1-score   support\n",
      "\n",
      "           0       1.00      1.00      1.00         8\n",
      "           1       1.00      0.80      0.89         5\n",
      "           2       0.67      1.00      0.80         2\n",
      "\n",
      "    accuracy                           0.93        15\n",
      "   macro avg       0.89      0.93      0.90        15\n",
      "weighted avg       0.96      0.93      0.94        15\n",
      "\n"
     ]
    }
   ],
   "source": [
    "from sklearn import datasets\n",
    "from sklearn.neighbors import KNeighborsClassifier\n",
    "from sklearn.model_selection import train_test_split\n",
    "from sklearn.metrics import confusion_matrix, classification_report\n",
    "\n",
    "iris = datasets.load_iris()\n",
    "X = iris.data\n",
    "y = iris.target\n",
    "\n",
    "x_train, x_test, y_train, y_test = train_test_split(X, y, test_size=0.1)\n",
    "\n",
    "clf = KNeighborsClassifier(2)\n",
    "clf.fit(x_train, y_train)\n",
    "\n",
    "ypred = clf.predict(x_test)\n",
    "\n",
    "print(\"OG\\tPred\\t1or0\")\n",
    "for label, pred in zip(y_test, ypred):\n",
    "    print(f\"{label}\\t{pred}\\t{'1' if label == pred else '0'}\")\n",
    "\n",
    "print(\"CM: \",  confusion_matrix(y_test, ypred))\n",
    "print(\"CR: \", classification_report(y_test, ypred))"
   ]
  }
 ],
 "metadata": {
  "kernelspec": {
   "display_name": "Python 3 (ipykernel)",
   "language": "python",
   "name": "python3"
  },
  "language_info": {
   "codemirror_mode": {
    "name": "ipython",
    "version": 3
   },
   "file_extension": ".py",
   "mimetype": "text/x-python",
   "name": "python",
   "nbconvert_exporter": "python",
   "pygments_lexer": "ipython3",
   "version": "3.10.4"
  }
 },
 "nbformat": 4,
 "nbformat_minor": 2
}
